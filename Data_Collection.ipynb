{
  "cells": [
    {
      "cell_type": "markdown",
      "metadata": {
        "id": "c3j-IaFL0MQm"
      },
      "source": [
        "In this lab, you will make a get request to the SpaceX API. You will also do some basic data wrangling and formating. \n",
        "\n",
        "- Request to the SpaceX API\n",
        "- Clean the requested data\n"
      ]
    },
    {
      "cell_type": "markdown",
      "metadata": {
        "id": "DLFgVamp0MQn"
      },
      "source": [
        "----\n"
      ]
    },
    {
      "cell_type": "markdown",
      "metadata": {
        "id": "60raesXE0MQo"
      },
      "source": [
        "## This notebook contains the Data Collection and some Data Wrangling codes\n"
      ]
    },
    {
      "cell_type": "code",
      "execution_count": 1,
      "metadata": {
        "id": "5yLS6e_c0MQp"
      },
      "outputs": [],
      "source": [
        "# Requests allows us to make HTTP requests which we will use to get data from an API\n",
        "import requests\n",
        "# Pandas is a software library written for the Python programming language for data manipulation and analysis.\n",
        "import pandas as pd\n",
        "# NumPy is a library for the Python programming language, adding support for large, multi-dimensional arrays and matrices, along with a large collection of high-level mathematical functions to operate on these arrays\n",
        "import numpy as np\n",
        "# Datetime is a library that allows us to represent dates\n",
        "import datetime\n",
        "\n",
        "# Setting this option will print all collumns of a dataframe\n",
        "pd.set_option('display.max_columns', None)\n",
        "# Setting this option will print all of the data in a feature\n",
        "pd.set_option('display.max_colwidth', None)"
      ]
    },
    {
      "cell_type": "markdown",
      "metadata": {
        "id": "IGCvuvGX0MQr"
      },
      "source": [
        "Below we will define a series of helper functions that will help us use the API to extract information using identification numbers in the launch data.\n",
        "\n",
        "From the <code>rocket</code> column we would like to learn the booster name.\n"
      ]
    },
    {
      "cell_type": "code",
      "execution_count": 2,
      "metadata": {
        "id": "lLE4W71p0MQr"
      },
      "outputs": [],
      "source": [
        "# Takes the dataset and uses the rocket column to call the API and append the data to the list\n",
        "def getBoosterVersion(data):\n",
        "    for x in data['rocket']:\n",
        "       if x:\n",
        "        response = requests.get(\"https://api.spacexdata.com/v4/rockets/\"+str(x)).json()\n",
        "        BoosterVersion.append(response['name'])"
      ]
    },
    {
      "cell_type": "markdown",
      "metadata": {
        "id": "hHFp5O2a0MQs"
      },
      "source": [
        "From the <code>launchpad</code> we would like to know the name of the launch site being used, the logitude, and the latitude.\n"
      ]
    },
    {
      "cell_type": "code",
      "execution_count": 3,
      "metadata": {
        "id": "9uGtP-o-0MQs"
      },
      "outputs": [],
      "source": [
        "# Takes the dataset and uses the launchpad column to call the API and append the data to the list\n",
        "def getLaunchSite(data):\n",
        "    for x in data['launchpad']:\n",
        "       if x:\n",
        "         response = requests.get(\"https://api.spacexdata.com/v4/launchpads/\"+str(x)).json()\n",
        "         Longitude.append(response['longitude'])\n",
        "         Latitude.append(response['latitude'])\n",
        "         LaunchSite.append(response['name'])"
      ]
    },
    {
      "cell_type": "markdown",
      "metadata": {
        "id": "6HGCmu-H0MQt"
      },
      "source": [
        "From the <code>payload</code> we would like to learn the mass of the payload and the orbit that it is going to.\n"
      ]
    },
    {
      "cell_type": "code",
      "execution_count": 4,
      "metadata": {
        "id": "wK70rcgJ0MQu"
      },
      "outputs": [],
      "source": [
        "# Takes the dataset and uses the payloads column to call the API and append the data to the lists\n",
        "def getPayloadData(data):\n",
        "    for load in data['payloads']:\n",
        "       if load:\n",
        "        response = requests.get(\"https://api.spacexdata.com/v4/payloads/\"+load).json()\n",
        "        PayloadMass.append(response['mass_kg'])\n",
        "        Orbit.append(response['orbit'])"
      ]
    },
    {
      "cell_type": "markdown",
      "metadata": {
        "id": "WxjBOHQP0MQu"
      },
      "source": [
        "From <code>cores</code> we would like to learn the outcome of the landing, the type of the landing, number of flights with that core, whether gridfins were used, wheter the core is reused, wheter legs were used, the landing pad used, the block of the core which is a number used to seperate version of cores, the number of times this specific core has been reused, and the serial of the core.\n"
      ]
    },
    {
      "cell_type": "code",
      "execution_count": 5,
      "metadata": {
        "id": "Q81bze9p0MQv"
      },
      "outputs": [],
      "source": [
        "# Takes the dataset and uses the cores column to call the API and append the data to the lists\n",
        "def getCoreData(data):\n",
        "    for core in data['cores']:\n",
        "            if core['core'] != None:\n",
        "                response = requests.get(\"https://api.spacexdata.com/v4/cores/\"+core['core']).json()\n",
        "                Block.append(response['block'])\n",
        "                ReusedCount.append(response['reuse_count'])\n",
        "                Serial.append(response['serial'])\n",
        "            else:\n",
        "                Block.append(None)\n",
        "                ReusedCount.append(None)\n",
        "                Serial.append(None)\n",
        "            Outcome.append(str(core['landing_success'])+' '+str(core['landing_type']))\n",
        "            Flights.append(core['flight'])\n",
        "            GridFins.append(core['gridfins'])\n",
        "            Reused.append(core['reused'])\n",
        "            Legs.append(core['legs'])\n",
        "            LandingPad.append(core['landpad'])"
      ]
    },
    {
      "cell_type": "code",
      "execution_count": 6,
      "metadata": {
        "id": "xQulnWDc0MQw"
      },
      "outputs": [],
      "source": [
        "spacex_url=\"https://api.spacexdata.com/v4/launches/past\""
      ]
    },
    {
      "cell_type": "code",
      "execution_count": 7,
      "metadata": {
        "id": "c9UFi0r50MQw"
      },
      "outputs": [],
      "source": [
        "response = requests.get(spacex_url)"
      ]
    },
    {
      "cell_type": "code",
      "execution_count": null,
      "metadata": {
        "id": "Nuw3DVZH0MQx"
      },
      "outputs": [],
      "source": [
        "print(response.content)"
      ]
    },
    {
      "cell_type": "code",
      "execution_count": 9,
      "metadata": {
        "id": "WszkhN0c0MQy"
      },
      "outputs": [],
      "source": [
        "static_json_url='https://cf-courses-data.s3.us.cloud-object-storage.appdomain.cloud/IBM-DS0321EN-SkillsNetwork/datasets/API_call_spacex_api.json'"
      ]
    },
    {
      "cell_type": "code",
      "execution_count": 10,
      "metadata": {
        "colab": {
          "base_uri": "https://localhost:8080/",
          "height": 0
        },
        "id": "moqt8lNk0MQz",
        "outputId": "2a02a7cd-e587-49b2-8d1f-054e036fea8c"
      },
      "outputs": [
        {
          "output_type": "execute_result",
          "data": {
            "text/plain": [
              "200"
            ]
          },
          "metadata": {},
          "execution_count": 10
        }
      ],
      "source": [
        "response.status_code"
      ]
    },
    {
      "cell_type": "markdown",
      "metadata": {
        "id": "tvoeV-A50MQz"
      },
      "source": [
        "Now we decode the response content as a Json using <code>.json()</code> and turn it into a Pandas dataframe using <code>.json_normalize()</code>\n"
      ]
    },
    {
      "cell_type": "code",
      "execution_count": 11,
      "metadata": {
        "id": "_2qBpt230MQz"
      },
      "outputs": [],
      "source": [
        "# Use json_normalize method to convert the json result into a dataframe\n",
        "data = pd.read_json(static_json_url)\n",
        "#data = json_normalize(static_json_url)\n"
      ]
    },
    {
      "cell_type": "markdown",
      "metadata": {
        "id": "560Kl15v0MQ0"
      },
      "source": [
        "Using the dataframe <code>data</code> print the first 5 rows\n"
      ]
    },
    {
      "cell_type": "code",
      "execution_count": 12,
      "metadata": {
        "colab": {
          "base_uri": "https://localhost:8080/",
          "height": 509
        },
        "id": "ZgIwaK0y0MQ0",
        "outputId": "b29d535e-cfe4-4b5a-cd9f-7bb734976b01"
      },
      "outputs": [
        {
          "output_type": "execute_result",
          "data": {
            "text/plain": [
              "                                                                        fairings  \\\n",
              "0  {'reused': False, 'recovery_attempt': False, 'recovered': False, 'ships': []}   \n",
              "\n",
              "                                                                                                                                                                                                                                                                                                                                                                                                                                                                                                                   links  \\\n",
              "0  {'patch': {'small': 'https://images2.imgbox.com/3c/0e/T8iJcSN3_o.png', 'large': 'https://images2.imgbox.com/40/e3/GypSkayF_o.png'}, 'reddit': {'campaign': None, 'launch': None, 'media': None, 'recovery': None}, 'flickr': {'small': [], 'original': []}, 'presskit': None, 'webcast': 'https://www.youtube.com/watch?v=0a_00nJ_Y88', 'youtube_id': '0a_00nJ_Y88', 'article': 'https://www.space.com/2196-spacex-inaugural-falcon-1-rocket-lost-launch.html', 'wikipedia': 'https://en.wikipedia.org/wiki/DemoSat'}   \n",
              "\n",
              "       static_fire_date_utc  static_fire_date_unix    tbd    net  window  \\\n",
              "0  2006-03-17T00:00:00.000Z           1.142554e+09  False  False     0.0   \n",
              "\n",
              "                     rocket  success  \\\n",
              "0  5e9d0d95eda69955f709d1eb    False   \n",
              "\n",
              "                                            details crew ships capsules  \\\n",
              "0  Engine failure at 33 seconds and loss of vehicle   []    []       []   \n",
              "\n",
              "                     payloads                 launchpad  auto_update  \\\n",
              "0  [5eb0e4b5b6c3bb0006eeb1e1]  5e9e4502f5090995de566f86         True   \n",
              "\n",
              "                                                              failures  \\\n",
              "0  [{'time': 33, 'altitude': None, 'reason': 'merlin engine failure'}]   \n",
              "\n",
              "   flight_number       name                  date_utc   date_unix  \\\n",
              "0              1  FalconSat  2006-03-24T22:30:00.000Z  1143239400   \n",
              "\n",
              "                  date_local date_precision  upcoming  \\\n",
              "0  2006-03-25T10:30:00+12:00           hour     False   \n",
              "\n",
              "                                                                                                                                                                                              cores  \\\n",
              "0  [{'core': '5e9e289df35918033d3b2623', 'flight': 1, 'gridfins': False, 'legs': False, 'reused': False, 'landing_attempt': False, 'landing_success': None, 'landing_type': None, 'landpad': None}]   \n",
              "\n",
              "                         id  \n",
              "0  5eb87cd9ffd86e000604b32a  "
            ],
            "text/html": [
              "\n",
              "  <div id=\"df-f6805b79-99ab-4553-9db4-454bd7019f0a\">\n",
              "    <div class=\"colab-df-container\">\n",
              "      <div>\n",
              "<style scoped>\n",
              "    .dataframe tbody tr th:only-of-type {\n",
              "        vertical-align: middle;\n",
              "    }\n",
              "\n",
              "    .dataframe tbody tr th {\n",
              "        vertical-align: top;\n",
              "    }\n",
              "\n",
              "    .dataframe thead th {\n",
              "        text-align: right;\n",
              "    }\n",
              "</style>\n",
              "<table border=\"1\" class=\"dataframe\">\n",
              "  <thead>\n",
              "    <tr style=\"text-align: right;\">\n",
              "      <th></th>\n",
              "      <th>fairings</th>\n",
              "      <th>links</th>\n",
              "      <th>static_fire_date_utc</th>\n",
              "      <th>static_fire_date_unix</th>\n",
              "      <th>tbd</th>\n",
              "      <th>net</th>\n",
              "      <th>window</th>\n",
              "      <th>rocket</th>\n",
              "      <th>success</th>\n",
              "      <th>details</th>\n",
              "      <th>crew</th>\n",
              "      <th>ships</th>\n",
              "      <th>capsules</th>\n",
              "      <th>payloads</th>\n",
              "      <th>launchpad</th>\n",
              "      <th>auto_update</th>\n",
              "      <th>failures</th>\n",
              "      <th>flight_number</th>\n",
              "      <th>name</th>\n",
              "      <th>date_utc</th>\n",
              "      <th>date_unix</th>\n",
              "      <th>date_local</th>\n",
              "      <th>date_precision</th>\n",
              "      <th>upcoming</th>\n",
              "      <th>cores</th>\n",
              "      <th>id</th>\n",
              "    </tr>\n",
              "  </thead>\n",
              "  <tbody>\n",
              "    <tr>\n",
              "      <th>0</th>\n",
              "      <td>{'reused': False, 'recovery_attempt': False, 'recovered': False, 'ships': []}</td>\n",
              "      <td>{'patch': {'small': 'https://images2.imgbox.com/3c/0e/T8iJcSN3_o.png', 'large': 'https://images2.imgbox.com/40/e3/GypSkayF_o.png'}, 'reddit': {'campaign': None, 'launch': None, 'media': None, 'recovery': None}, 'flickr': {'small': [], 'original': []}, 'presskit': None, 'webcast': 'https://www.youtube.com/watch?v=0a_00nJ_Y88', 'youtube_id': '0a_00nJ_Y88', 'article': 'https://www.space.com/2196-spacex-inaugural-falcon-1-rocket-lost-launch.html', 'wikipedia': 'https://en.wikipedia.org/wiki/DemoSat'}</td>\n",
              "      <td>2006-03-17T00:00:00.000Z</td>\n",
              "      <td>1.142554e+09</td>\n",
              "      <td>False</td>\n",
              "      <td>False</td>\n",
              "      <td>0.0</td>\n",
              "      <td>5e9d0d95eda69955f709d1eb</td>\n",
              "      <td>False</td>\n",
              "      <td>Engine failure at 33 seconds and loss of vehicle</td>\n",
              "      <td>[]</td>\n",
              "      <td>[]</td>\n",
              "      <td>[]</td>\n",
              "      <td>[5eb0e4b5b6c3bb0006eeb1e1]</td>\n",
              "      <td>5e9e4502f5090995de566f86</td>\n",
              "      <td>True</td>\n",
              "      <td>[{'time': 33, 'altitude': None, 'reason': 'merlin engine failure'}]</td>\n",
              "      <td>1</td>\n",
              "      <td>FalconSat</td>\n",
              "      <td>2006-03-24T22:30:00.000Z</td>\n",
              "      <td>1143239400</td>\n",
              "      <td>2006-03-25T10:30:00+12:00</td>\n",
              "      <td>hour</td>\n",
              "      <td>False</td>\n",
              "      <td>[{'core': '5e9e289df35918033d3b2623', 'flight': 1, 'gridfins': False, 'legs': False, 'reused': False, 'landing_attempt': False, 'landing_success': None, 'landing_type': None, 'landpad': None}]</td>\n",
              "      <td>5eb87cd9ffd86e000604b32a</td>\n",
              "    </tr>\n",
              "  </tbody>\n",
              "</table>\n",
              "</div>\n",
              "      <button class=\"colab-df-convert\" onclick=\"convertToInteractive('df-f6805b79-99ab-4553-9db4-454bd7019f0a')\"\n",
              "              title=\"Convert this dataframe to an interactive table.\"\n",
              "              style=\"display:none;\">\n",
              "        \n",
              "  <svg xmlns=\"http://www.w3.org/2000/svg\" height=\"24px\"viewBox=\"0 0 24 24\"\n",
              "       width=\"24px\">\n",
              "    <path d=\"M0 0h24v24H0V0z\" fill=\"none\"/>\n",
              "    <path d=\"M18.56 5.44l.94 2.06.94-2.06 2.06-.94-2.06-.94-.94-2.06-.94 2.06-2.06.94zm-11 1L8.5 8.5l.94-2.06 2.06-.94-2.06-.94L8.5 2.5l-.94 2.06-2.06.94zm10 10l.94 2.06.94-2.06 2.06-.94-2.06-.94-.94-2.06-.94 2.06-2.06.94z\"/><path d=\"M17.41 7.96l-1.37-1.37c-.4-.4-.92-.59-1.43-.59-.52 0-1.04.2-1.43.59L10.3 9.45l-7.72 7.72c-.78.78-.78 2.05 0 2.83L4 21.41c.39.39.9.59 1.41.59.51 0 1.02-.2 1.41-.59l7.78-7.78 2.81-2.81c.8-.78.8-2.07 0-2.86zM5.41 20L4 18.59l7.72-7.72 1.47 1.35L5.41 20z\"/>\n",
              "  </svg>\n",
              "      </button>\n",
              "      \n",
              "  <style>\n",
              "    .colab-df-container {\n",
              "      display:flex;\n",
              "      flex-wrap:wrap;\n",
              "      gap: 12px;\n",
              "    }\n",
              "\n",
              "    .colab-df-convert {\n",
              "      background-color: #E8F0FE;\n",
              "      border: none;\n",
              "      border-radius: 50%;\n",
              "      cursor: pointer;\n",
              "      display: none;\n",
              "      fill: #1967D2;\n",
              "      height: 32px;\n",
              "      padding: 0 0 0 0;\n",
              "      width: 32px;\n",
              "    }\n",
              "\n",
              "    .colab-df-convert:hover {\n",
              "      background-color: #E2EBFA;\n",
              "      box-shadow: 0px 1px 2px rgba(60, 64, 67, 0.3), 0px 1px 3px 1px rgba(60, 64, 67, 0.15);\n",
              "      fill: #174EA6;\n",
              "    }\n",
              "\n",
              "    [theme=dark] .colab-df-convert {\n",
              "      background-color: #3B4455;\n",
              "      fill: #D2E3FC;\n",
              "    }\n",
              "\n",
              "    [theme=dark] .colab-df-convert:hover {\n",
              "      background-color: #434B5C;\n",
              "      box-shadow: 0px 1px 3px 1px rgba(0, 0, 0, 0.15);\n",
              "      filter: drop-shadow(0px 1px 2px rgba(0, 0, 0, 0.3));\n",
              "      fill: #FFFFFF;\n",
              "    }\n",
              "  </style>\n",
              "\n",
              "      <script>\n",
              "        const buttonEl =\n",
              "          document.querySelector('#df-f6805b79-99ab-4553-9db4-454bd7019f0a button.colab-df-convert');\n",
              "        buttonEl.style.display =\n",
              "          google.colab.kernel.accessAllowed ? 'block' : 'none';\n",
              "\n",
              "        async function convertToInteractive(key) {\n",
              "          const element = document.querySelector('#df-f6805b79-99ab-4553-9db4-454bd7019f0a');\n",
              "          const dataTable =\n",
              "            await google.colab.kernel.invokeFunction('convertToInteractive',\n",
              "                                                     [key], {});\n",
              "          if (!dataTable) return;\n",
              "\n",
              "          const docLinkHtml = 'Like what you see? Visit the ' +\n",
              "            '<a target=\"_blank\" href=https://colab.research.google.com/notebooks/data_table.ipynb>data table notebook</a>'\n",
              "            + ' to learn more about interactive tables.';\n",
              "          element.innerHTML = '';\n",
              "          dataTable['output_type'] = 'display_data';\n",
              "          await google.colab.output.renderOutput(dataTable, element);\n",
              "          const docLink = document.createElement('div');\n",
              "          docLink.innerHTML = docLinkHtml;\n",
              "          element.appendChild(docLink);\n",
              "        }\n",
              "      </script>\n",
              "    </div>\n",
              "  </div>\n",
              "  "
            ]
          },
          "metadata": {},
          "execution_count": 12
        }
      ],
      "source": [
        "# Get the head of the dataframe\n",
        "data.head(1)"
      ]
    },
    {
      "cell_type": "markdown",
      "metadata": {
        "id": "g-YagMrO0MQ0"
      },
      "source": [
        "You will notice that a lot of the data are IDs. For example the rocket column has no information about the rocket just an identification number.\n",
        "\n",
        "We will now use the API again to get information about the launches using the IDs given for each launch. Specifically we will be using columns <code>rocket</code>, <code>payloads</code>, <code>launchpad</code>, and <code>cores</code>.\n"
      ]
    },
    {
      "cell_type": "code",
      "execution_count": 13,
      "metadata": {
        "id": "cbx1fwp70MQ1"
      },
      "outputs": [],
      "source": [
        "# Lets take a subset of our dataframe keeping only the features we want and the flight number, and date_utc.\n",
        "data = data[['rocket', 'payloads', 'launchpad', 'cores', 'flight_number', 'date_utc']]\n",
        "\n",
        "# We will remove rows with multiple cores because those are falcon rockets with 2 extra rocket boosters and rows that have multiple payloads in a single rocket.\n",
        "data = data[data['cores'].map(len)==1]\n",
        "data = data[data['payloads'].map(len)==1]\n",
        "\n",
        "# Since payloads and cores are lists of size 1 we will also extract the single value in the list and replace the feature.\n",
        "data['cores'] = data['cores'].map(lambda x : x[0])\n",
        "data['payloads'] = data['payloads'].map(lambda x : x[0])\n",
        "\n",
        "# We also want to convert the date_utc to a datetime datatype and then extracting the date leaving the time\n",
        "data['date'] = pd.to_datetime(data['date_utc']).dt.date\n",
        "\n",
        "# Using the date we will restrict the dates of the launches\n",
        "data = data[data['date'] <= datetime.date(2020, 11, 13)]"
      ]
    },
    {
      "cell_type": "markdown",
      "metadata": {
        "id": "d-PvJClR0MQ1"
      },
      "source": [
        "\n",
        "From the <code>rocket</code> we would like to learn the booster name\n",
        "\n",
        "* From the <code>payload</code> we would like to learn the mass of the payload and the orbit that it is going to\n",
        "\n",
        "* From the <code>launchpad</code> we would like to know the name of the launch site being used, the longitude, and the latitude.\n",
        "\n",
        "* From <code>cores</code> we would like to learn the outcome of the landing, the type of the landing, number of flights with that core, whether gridfins were used, whether the core is reused, whether legs were used, the landing pad used, the block of the core which is a number used to seperate version of cores, the number of times this specific core has been reused, and the serial of the core.\n",
        "\n",
        "The data from these requests will be stored in lists and will be used to create a new dataframe.\n"
      ]
    },
    {
      "cell_type": "code",
      "execution_count": 14,
      "metadata": {
        "id": "hyX2U9gq0MQ1"
      },
      "outputs": [],
      "source": [
        "#Global variables \n",
        "BoosterVersion = []\n",
        "PayloadMass = []\n",
        "Orbit = []\n",
        "LaunchSite = []\n",
        "Outcome = []\n",
        "Flights = []\n",
        "GridFins = []\n",
        "Reused = []\n",
        "Legs = []\n",
        "LandingPad = []\n",
        "Block = []\n",
        "ReusedCount = []\n",
        "Serial = []\n",
        "Longitude = []\n",
        "Latitude = []"
      ]
    },
    {
      "cell_type": "markdown",
      "metadata": {
        "id": "ttZ3ooOC0MQ2"
      },
      "source": [
        "These functions will apply the outputs globally to the above variables. Let's take a looks at <code>BoosterVersion</code> variable. Before we apply  <code>getBoosterVersion</code> the list is empty:\n"
      ]
    },
    {
      "cell_type": "code",
      "execution_count": 15,
      "metadata": {
        "id": "FirAe8Dz0MQ2",
        "colab": {
          "base_uri": "https://localhost:8080/",
          "height": 0
        },
        "outputId": "277a4000-909d-42a5-90f0-9aec54a1351c"
      },
      "outputs": [
        {
          "output_type": "execute_result",
          "data": {
            "text/plain": [
              "[]"
            ]
          },
          "metadata": {},
          "execution_count": 15
        }
      ],
      "source": [
        "BoosterVersion"
      ]
    },
    {
      "cell_type": "markdown",
      "metadata": {
        "id": "felmTKzc0MQ3"
      },
      "source": [
        "Now, let's apply <code> getBoosterVersion</code> function method to get the booster version\n"
      ]
    },
    {
      "cell_type": "code",
      "execution_count": 16,
      "metadata": {
        "id": "Sug8rNBH0MQ3"
      },
      "outputs": [],
      "source": [
        "# Call getBoosterVersion\n",
        "getBoosterVersion(data)"
      ]
    },
    {
      "cell_type": "markdown",
      "metadata": {
        "id": "YNWMpLy80MQ3"
      },
      "source": [
        "the list has now been update \n"
      ]
    },
    {
      "cell_type": "code",
      "execution_count": 17,
      "metadata": {
        "id": "aDWPu4eG0MQ4",
        "colab": {
          "base_uri": "https://localhost:8080/",
          "height": 0
        },
        "outputId": "e991d30e-e650-4ec8-877e-c0e60adfa802"
      },
      "outputs": [
        {
          "output_type": "execute_result",
          "data": {
            "text/plain": [
              "['Falcon 1', 'Falcon 1', 'Falcon 1', 'Falcon 1', 'Falcon 9']"
            ]
          },
          "metadata": {},
          "execution_count": 17
        }
      ],
      "source": [
        "BoosterVersion[0:5]"
      ]
    },
    {
      "cell_type": "markdown",
      "metadata": {
        "id": "lkAv5GoR0MQ4"
      },
      "source": [
        "we can apply the rest of the  functions here:\n"
      ]
    },
    {
      "cell_type": "code",
      "execution_count": 18,
      "metadata": {
        "id": "8LVXfdxx0MQ4"
      },
      "outputs": [],
      "source": [
        "# Call getLaunchSite\n",
        "getLaunchSite(data)"
      ]
    },
    {
      "cell_type": "code",
      "execution_count": 19,
      "metadata": {
        "id": "AwmOWxeM0MQ5"
      },
      "outputs": [],
      "source": [
        "# Call getPayloadData\n",
        "getPayloadData(data)"
      ]
    },
    {
      "cell_type": "code",
      "execution_count": 20,
      "metadata": {
        "id": "woLb2N7A0MQ5"
      },
      "outputs": [],
      "source": [
        "# Call getCoreData\n",
        "getCoreData(data)"
      ]
    },
    {
      "cell_type": "markdown",
      "metadata": {
        "id": "Ai6SN7QU0MQ5"
      },
      "source": [
        ":Finally lets construct our dataset using the data we have obtained. We we combine the columns into a dictionary.\n"
      ]
    },
    {
      "cell_type": "code",
      "execution_count": 21,
      "metadata": {
        "id": "dMZbX3bc0MQ6"
      },
      "outputs": [],
      "source": [
        "launch_dict = {'FlightNumber': list(data['flight_number']),\n",
        "'Date': list(data['date']),\n",
        "'BoosterVersion':BoosterVersion,\n",
        "'PayloadMass':PayloadMass,\n",
        "'Orbit':Orbit,\n",
        "'LaunchSite':LaunchSite,\n",
        "'Outcome':Outcome,\n",
        "'Flights':Flights,\n",
        "'GridFins':GridFins,\n",
        "'Reused':Reused,\n",
        "'Legs':Legs,\n",
        "'LandingPad':LandingPad,\n",
        "'Block':Block,\n",
        "'ReusedCount':ReusedCount,\n",
        "'Serial':Serial,\n",
        "'Longitude': Longitude,\n",
        "'Latitude': Latitude}\n"
      ]
    },
    {
      "cell_type": "markdown",
      "metadata": {
        "id": "n3TpC1560MQ6"
      },
      "source": [
        "Then, we need to create a Pandas data frame from the dictionary launch_dict.\n"
      ]
    },
    {
      "cell_type": "code",
      "execution_count": 22,
      "metadata": {
        "id": "098IZH3W0MQ6"
      },
      "outputs": [],
      "source": [
        "# Create a data from launch_dict\n",
        "datos = pd.DataFrame.from_dict(launch_dict)"
      ]
    },
    {
      "cell_type": "markdown",
      "metadata": {
        "id": "cf2Bmw-D0MQ6"
      },
      "source": [
        "Show the summary of the dataframe\n"
      ]
    },
    {
      "cell_type": "code",
      "execution_count": 23,
      "metadata": {
        "id": "4KZKIwkh0MQ7",
        "colab": {
          "base_uri": "https://localhost:8080/",
          "height": 0
        },
        "outputId": "e598fc6d-0c55-4702-c32d-733e2f7644ea"
      },
      "outputs": [
        {
          "output_type": "execute_result",
          "data": {
            "text/plain": [
              "<bound method NDFrame.head of     FlightNumber        Date BoosterVersion  PayloadMass Orbit  \\\n",
              "0              1  2006-03-24       Falcon 1         20.0   LEO   \n",
              "1              2  2007-03-21       Falcon 1          NaN   LEO   \n",
              "2              4  2008-09-28       Falcon 1        165.0   LEO   \n",
              "3              5  2009-07-13       Falcon 1        200.0   LEO   \n",
              "4              6  2010-06-04       Falcon 9          NaN   LEO   \n",
              "..           ...         ...            ...          ...   ...   \n",
              "89           102  2020-09-03       Falcon 9      15600.0  VLEO   \n",
              "90           103  2020-10-06       Falcon 9      15600.0  VLEO   \n",
              "91           104  2020-10-18       Falcon 9      15600.0  VLEO   \n",
              "92           105  2020-10-24       Falcon 9      15600.0  VLEO   \n",
              "93           106  2020-11-05       Falcon 9       3681.0   MEO   \n",
              "\n",
              "         LaunchSite    Outcome  Flights  GridFins  Reused   Legs  \\\n",
              "0   Kwajalein Atoll  None None        1     False   False  False   \n",
              "1   Kwajalein Atoll  None None        1     False   False  False   \n",
              "2   Kwajalein Atoll  None None        1     False   False  False   \n",
              "3   Kwajalein Atoll  None None        1     False   False  False   \n",
              "4      CCSFS SLC 40  None None        1     False   False  False   \n",
              "..              ...        ...      ...       ...     ...    ...   \n",
              "89       KSC LC 39A  True ASDS        2      True    True   True   \n",
              "90       KSC LC 39A  True ASDS        3      True    True   True   \n",
              "91       KSC LC 39A  True ASDS        6      True    True   True   \n",
              "92     CCSFS SLC 40  True ASDS        3      True    True   True   \n",
              "93     CCSFS SLC 40  True ASDS        1      True   False   True   \n",
              "\n",
              "                  LandingPad  Block  ReusedCount    Serial   Longitude  \\\n",
              "0                       None    NaN            0  Merlin1A  167.743129   \n",
              "1                       None    NaN            0  Merlin2A  167.743129   \n",
              "2                       None    NaN            0  Merlin2C  167.743129   \n",
              "3                       None    NaN            0  Merlin3C  167.743129   \n",
              "4                       None    1.0            0     B0003  -80.577366   \n",
              "..                       ...    ...          ...       ...         ...   \n",
              "89  5e9e3032383ecb6bb234e7ca    5.0           12     B1060  -80.603956   \n",
              "90  5e9e3032383ecb6bb234e7ca    5.0           13     B1058  -80.603956   \n",
              "91  5e9e3032383ecb6bb234e7ca    5.0           12     B1051  -80.603956   \n",
              "92  5e9e3033383ecbb9e534e7cc    5.0           12     B1060  -80.577366   \n",
              "93  5e9e3032383ecb6bb234e7ca    5.0            8     B1062  -80.577366   \n",
              "\n",
              "     Latitude  \n",
              "0    9.047721  \n",
              "1    9.047721  \n",
              "2    9.047721  \n",
              "3    9.047721  \n",
              "4   28.561857  \n",
              "..        ...  \n",
              "89  28.608058  \n",
              "90  28.608058  \n",
              "91  28.608058  \n",
              "92  28.561857  \n",
              "93  28.561857  \n",
              "\n",
              "[94 rows x 17 columns]>"
            ]
          },
          "metadata": {},
          "execution_count": 23
        }
      ],
      "source": [
        "# Show the head of the datafrada\n",
        "datos.head"
      ]
    },
    {
      "cell_type": "markdown",
      "metadata": {
        "id": "rxGomnSN0MQ7"
      },
      "source": [
        "### Task 2: Filter the dataframe to only include `Falcon 9` launches\n"
      ]
    },
    {
      "cell_type": "markdown",
      "metadata": {
        "id": "vVF3x6o40MQ7"
      },
      "source": [
        "Finally we will remove the Falcon 1 launches keeping only the Falcon 9 launches. Filter the data dataframe using the <code>BoosterVersion</code> column to only keep the Falcon 9 launches. Save the filtered data to a new dataframe called <code>data_falcon9</code>.\n"
      ]
    },
    {
      "cell_type": "code",
      "execution_count": 24,
      "metadata": {
        "id": "jisjDQhh0MQ7",
        "colab": {
          "base_uri": "https://localhost:8080/",
          "height": 0
        },
        "outputId": "0da51dad-aa07-4d94-b30b-2f6c88116f71"
      },
      "outputs": [
        {
          "output_type": "execute_result",
          "data": {
            "text/plain": [
              "0     False\n",
              "1     False\n",
              "2     False\n",
              "3     False\n",
              "4      True\n",
              "      ...  \n",
              "89     True\n",
              "90     True\n",
              "91     True\n",
              "92     True\n",
              "93     True\n",
              "Name: BoosterVersion, Length: 94, dtype: bool"
            ]
          },
          "metadata": {},
          "execution_count": 24
        }
      ],
      "source": [
        "# Hint data['BoosterVersion']!='Falcon 1'\n",
        "datos['BoosterVersion']!='Falcon 1'"
      ]
    },
    {
      "cell_type": "code",
      "source": [
        "datos.shape"
      ],
      "metadata": {
        "id": "aGjRTJH0ApyD",
        "colab": {
          "base_uri": "https://localhost:8080/",
          "height": 0
        },
        "outputId": "07daa602-e403-4543-a4f2-9c859b692366"
      },
      "execution_count": 25,
      "outputs": [
        {
          "output_type": "execute_result",
          "data": {
            "text/plain": [
              "(94, 17)"
            ]
          },
          "metadata": {},
          "execution_count": 25
        }
      ]
    },
    {
      "cell_type": "code",
      "source": [
        "datos = datos.loc[datos['BoosterVersion']!='Falcon 1']\n",
        "data_falcon9 = datos"
      ],
      "metadata": {
        "id": "iaO4ERpQAuCh"
      },
      "execution_count": 26,
      "outputs": []
    },
    {
      "cell_type": "markdown",
      "metadata": {
        "id": "h8UdPzZM0MQ8"
      },
      "source": [
        "Now that we have removed some values we should reset the FlgihtNumber column\n",
        "\n",
        "*   Elemento de la lista\n",
        "*   Elemento de la lista\n",
        "\n",
        "\n"
      ]
    },
    {
      "cell_type": "code",
      "execution_count": 27,
      "metadata": {
        "id": "-bKEMwZ10MQ8",
        "colab": {
          "base_uri": "https://localhost:8080/",
          "height": 773
        },
        "outputId": "19c697fb-4666-4e47-9599-dc868d23d0b9"
      },
      "outputs": [
        {
          "output_type": "stream",
          "name": "stderr",
          "text": [
            "/usr/local/lib/python3.8/dist-packages/pandas/core/indexing.py:1773: SettingWithCopyWarning: \n",
            "A value is trying to be set on a copy of a slice from a DataFrame.\n",
            "Try using .loc[row_indexer,col_indexer] = value instead\n",
            "\n",
            "See the caveats in the documentation: https://pandas.pydata.org/pandas-docs/stable/user_guide/indexing.html#returning-a-view-versus-a-copy\n",
            "  self._setitem_single_column(ilocs[0], value, pi)\n"
          ]
        },
        {
          "output_type": "execute_result",
          "data": {
            "text/plain": [
              "    FlightNumber        Date BoosterVersion  PayloadMass Orbit    LaunchSite  \\\n",
              "4              1  2010-06-04       Falcon 9          NaN   LEO  CCSFS SLC 40   \n",
              "5              2  2012-05-22       Falcon 9        525.0   LEO  CCSFS SLC 40   \n",
              "6              3  2013-03-01       Falcon 9        677.0   ISS  CCSFS SLC 40   \n",
              "7              4  2013-09-29       Falcon 9        500.0    PO   VAFB SLC 4E   \n",
              "8              5  2013-12-03       Falcon 9       3170.0   GTO  CCSFS SLC 40   \n",
              "..           ...         ...            ...          ...   ...           ...   \n",
              "89            86  2020-09-03       Falcon 9      15600.0  VLEO    KSC LC 39A   \n",
              "90            87  2020-10-06       Falcon 9      15600.0  VLEO    KSC LC 39A   \n",
              "91            88  2020-10-18       Falcon 9      15600.0  VLEO    KSC LC 39A   \n",
              "92            89  2020-10-24       Falcon 9      15600.0  VLEO  CCSFS SLC 40   \n",
              "93            90  2020-11-05       Falcon 9       3681.0   MEO  CCSFS SLC 40   \n",
              "\n",
              "        Outcome  Flights  GridFins  Reused   Legs                LandingPad  \\\n",
              "4     None None        1     False   False  False                      None   \n",
              "5     None None        1     False   False  False                      None   \n",
              "6     None None        1     False   False  False                      None   \n",
              "7   False Ocean        1     False   False  False                      None   \n",
              "8     None None        1     False   False  False                      None   \n",
              "..          ...      ...       ...     ...    ...                       ...   \n",
              "89    True ASDS        2      True    True   True  5e9e3032383ecb6bb234e7ca   \n",
              "90    True ASDS        3      True    True   True  5e9e3032383ecb6bb234e7ca   \n",
              "91    True ASDS        6      True    True   True  5e9e3032383ecb6bb234e7ca   \n",
              "92    True ASDS        3      True    True   True  5e9e3033383ecbb9e534e7cc   \n",
              "93    True ASDS        1      True   False   True  5e9e3032383ecb6bb234e7ca   \n",
              "\n",
              "    Block  ReusedCount Serial   Longitude   Latitude  \n",
              "4     1.0            0  B0003  -80.577366  28.561857  \n",
              "5     1.0            0  B0005  -80.577366  28.561857  \n",
              "6     1.0            0  B0007  -80.577366  28.561857  \n",
              "7     1.0            0  B1003 -120.610829  34.632093  \n",
              "8     1.0            0  B1004  -80.577366  28.561857  \n",
              "..    ...          ...    ...         ...        ...  \n",
              "89    5.0           12  B1060  -80.603956  28.608058  \n",
              "90    5.0           13  B1058  -80.603956  28.608058  \n",
              "91    5.0           12  B1051  -80.603956  28.608058  \n",
              "92    5.0           12  B1060  -80.577366  28.561857  \n",
              "93    5.0            8  B1062  -80.577366  28.561857  \n",
              "\n",
              "[90 rows x 17 columns]"
            ],
            "text/html": [
              "\n",
              "  <div id=\"df-fd06966f-ecc3-43b2-84ce-2505b4c3baf6\">\n",
              "    <div class=\"colab-df-container\">\n",
              "      <div>\n",
              "<style scoped>\n",
              "    .dataframe tbody tr th:only-of-type {\n",
              "        vertical-align: middle;\n",
              "    }\n",
              "\n",
              "    .dataframe tbody tr th {\n",
              "        vertical-align: top;\n",
              "    }\n",
              "\n",
              "    .dataframe thead th {\n",
              "        text-align: right;\n",
              "    }\n",
              "</style>\n",
              "<table border=\"1\" class=\"dataframe\">\n",
              "  <thead>\n",
              "    <tr style=\"text-align: right;\">\n",
              "      <th></th>\n",
              "      <th>FlightNumber</th>\n",
              "      <th>Date</th>\n",
              "      <th>BoosterVersion</th>\n",
              "      <th>PayloadMass</th>\n",
              "      <th>Orbit</th>\n",
              "      <th>LaunchSite</th>\n",
              "      <th>Outcome</th>\n",
              "      <th>Flights</th>\n",
              "      <th>GridFins</th>\n",
              "      <th>Reused</th>\n",
              "      <th>Legs</th>\n",
              "      <th>LandingPad</th>\n",
              "      <th>Block</th>\n",
              "      <th>ReusedCount</th>\n",
              "      <th>Serial</th>\n",
              "      <th>Longitude</th>\n",
              "      <th>Latitude</th>\n",
              "    </tr>\n",
              "  </thead>\n",
              "  <tbody>\n",
              "    <tr>\n",
              "      <th>4</th>\n",
              "      <td>1</td>\n",
              "      <td>2010-06-04</td>\n",
              "      <td>Falcon 9</td>\n",
              "      <td>NaN</td>\n",
              "      <td>LEO</td>\n",
              "      <td>CCSFS SLC 40</td>\n",
              "      <td>None None</td>\n",
              "      <td>1</td>\n",
              "      <td>False</td>\n",
              "      <td>False</td>\n",
              "      <td>False</td>\n",
              "      <td>None</td>\n",
              "      <td>1.0</td>\n",
              "      <td>0</td>\n",
              "      <td>B0003</td>\n",
              "      <td>-80.577366</td>\n",
              "      <td>28.561857</td>\n",
              "    </tr>\n",
              "    <tr>\n",
              "      <th>5</th>\n",
              "      <td>2</td>\n",
              "      <td>2012-05-22</td>\n",
              "      <td>Falcon 9</td>\n",
              "      <td>525.0</td>\n",
              "      <td>LEO</td>\n",
              "      <td>CCSFS SLC 40</td>\n",
              "      <td>None None</td>\n",
              "      <td>1</td>\n",
              "      <td>False</td>\n",
              "      <td>False</td>\n",
              "      <td>False</td>\n",
              "      <td>None</td>\n",
              "      <td>1.0</td>\n",
              "      <td>0</td>\n",
              "      <td>B0005</td>\n",
              "      <td>-80.577366</td>\n",
              "      <td>28.561857</td>\n",
              "    </tr>\n",
              "    <tr>\n",
              "      <th>6</th>\n",
              "      <td>3</td>\n",
              "      <td>2013-03-01</td>\n",
              "      <td>Falcon 9</td>\n",
              "      <td>677.0</td>\n",
              "      <td>ISS</td>\n",
              "      <td>CCSFS SLC 40</td>\n",
              "      <td>None None</td>\n",
              "      <td>1</td>\n",
              "      <td>False</td>\n",
              "      <td>False</td>\n",
              "      <td>False</td>\n",
              "      <td>None</td>\n",
              "      <td>1.0</td>\n",
              "      <td>0</td>\n",
              "      <td>B0007</td>\n",
              "      <td>-80.577366</td>\n",
              "      <td>28.561857</td>\n",
              "    </tr>\n",
              "    <tr>\n",
              "      <th>7</th>\n",
              "      <td>4</td>\n",
              "      <td>2013-09-29</td>\n",
              "      <td>Falcon 9</td>\n",
              "      <td>500.0</td>\n",
              "      <td>PO</td>\n",
              "      <td>VAFB SLC 4E</td>\n",
              "      <td>False Ocean</td>\n",
              "      <td>1</td>\n",
              "      <td>False</td>\n",
              "      <td>False</td>\n",
              "      <td>False</td>\n",
              "      <td>None</td>\n",
              "      <td>1.0</td>\n",
              "      <td>0</td>\n",
              "      <td>B1003</td>\n",
              "      <td>-120.610829</td>\n",
              "      <td>34.632093</td>\n",
              "    </tr>\n",
              "    <tr>\n",
              "      <th>8</th>\n",
              "      <td>5</td>\n",
              "      <td>2013-12-03</td>\n",
              "      <td>Falcon 9</td>\n",
              "      <td>3170.0</td>\n",
              "      <td>GTO</td>\n",
              "      <td>CCSFS SLC 40</td>\n",
              "      <td>None None</td>\n",
              "      <td>1</td>\n",
              "      <td>False</td>\n",
              "      <td>False</td>\n",
              "      <td>False</td>\n",
              "      <td>None</td>\n",
              "      <td>1.0</td>\n",
              "      <td>0</td>\n",
              "      <td>B1004</td>\n",
              "      <td>-80.577366</td>\n",
              "      <td>28.561857</td>\n",
              "    </tr>\n",
              "    <tr>\n",
              "      <th>...</th>\n",
              "      <td>...</td>\n",
              "      <td>...</td>\n",
              "      <td>...</td>\n",
              "      <td>...</td>\n",
              "      <td>...</td>\n",
              "      <td>...</td>\n",
              "      <td>...</td>\n",
              "      <td>...</td>\n",
              "      <td>...</td>\n",
              "      <td>...</td>\n",
              "      <td>...</td>\n",
              "      <td>...</td>\n",
              "      <td>...</td>\n",
              "      <td>...</td>\n",
              "      <td>...</td>\n",
              "      <td>...</td>\n",
              "      <td>...</td>\n",
              "    </tr>\n",
              "    <tr>\n",
              "      <th>89</th>\n",
              "      <td>86</td>\n",
              "      <td>2020-09-03</td>\n",
              "      <td>Falcon 9</td>\n",
              "      <td>15600.0</td>\n",
              "      <td>VLEO</td>\n",
              "      <td>KSC LC 39A</td>\n",
              "      <td>True ASDS</td>\n",
              "      <td>2</td>\n",
              "      <td>True</td>\n",
              "      <td>True</td>\n",
              "      <td>True</td>\n",
              "      <td>5e9e3032383ecb6bb234e7ca</td>\n",
              "      <td>5.0</td>\n",
              "      <td>12</td>\n",
              "      <td>B1060</td>\n",
              "      <td>-80.603956</td>\n",
              "      <td>28.608058</td>\n",
              "    </tr>\n",
              "    <tr>\n",
              "      <th>90</th>\n",
              "      <td>87</td>\n",
              "      <td>2020-10-06</td>\n",
              "      <td>Falcon 9</td>\n",
              "      <td>15600.0</td>\n",
              "      <td>VLEO</td>\n",
              "      <td>KSC LC 39A</td>\n",
              "      <td>True ASDS</td>\n",
              "      <td>3</td>\n",
              "      <td>True</td>\n",
              "      <td>True</td>\n",
              "      <td>True</td>\n",
              "      <td>5e9e3032383ecb6bb234e7ca</td>\n",
              "      <td>5.0</td>\n",
              "      <td>13</td>\n",
              "      <td>B1058</td>\n",
              "      <td>-80.603956</td>\n",
              "      <td>28.608058</td>\n",
              "    </tr>\n",
              "    <tr>\n",
              "      <th>91</th>\n",
              "      <td>88</td>\n",
              "      <td>2020-10-18</td>\n",
              "      <td>Falcon 9</td>\n",
              "      <td>15600.0</td>\n",
              "      <td>VLEO</td>\n",
              "      <td>KSC LC 39A</td>\n",
              "      <td>True ASDS</td>\n",
              "      <td>6</td>\n",
              "      <td>True</td>\n",
              "      <td>True</td>\n",
              "      <td>True</td>\n",
              "      <td>5e9e3032383ecb6bb234e7ca</td>\n",
              "      <td>5.0</td>\n",
              "      <td>12</td>\n",
              "      <td>B1051</td>\n",
              "      <td>-80.603956</td>\n",
              "      <td>28.608058</td>\n",
              "    </tr>\n",
              "    <tr>\n",
              "      <th>92</th>\n",
              "      <td>89</td>\n",
              "      <td>2020-10-24</td>\n",
              "      <td>Falcon 9</td>\n",
              "      <td>15600.0</td>\n",
              "      <td>VLEO</td>\n",
              "      <td>CCSFS SLC 40</td>\n",
              "      <td>True ASDS</td>\n",
              "      <td>3</td>\n",
              "      <td>True</td>\n",
              "      <td>True</td>\n",
              "      <td>True</td>\n",
              "      <td>5e9e3033383ecbb9e534e7cc</td>\n",
              "      <td>5.0</td>\n",
              "      <td>12</td>\n",
              "      <td>B1060</td>\n",
              "      <td>-80.577366</td>\n",
              "      <td>28.561857</td>\n",
              "    </tr>\n",
              "    <tr>\n",
              "      <th>93</th>\n",
              "      <td>90</td>\n",
              "      <td>2020-11-05</td>\n",
              "      <td>Falcon 9</td>\n",
              "      <td>3681.0</td>\n",
              "      <td>MEO</td>\n",
              "      <td>CCSFS SLC 40</td>\n",
              "      <td>True ASDS</td>\n",
              "      <td>1</td>\n",
              "      <td>True</td>\n",
              "      <td>False</td>\n",
              "      <td>True</td>\n",
              "      <td>5e9e3032383ecb6bb234e7ca</td>\n",
              "      <td>5.0</td>\n",
              "      <td>8</td>\n",
              "      <td>B1062</td>\n",
              "      <td>-80.577366</td>\n",
              "      <td>28.561857</td>\n",
              "    </tr>\n",
              "  </tbody>\n",
              "</table>\n",
              "<p>90 rows × 17 columns</p>\n",
              "</div>\n",
              "      <button class=\"colab-df-convert\" onclick=\"convertToInteractive('df-fd06966f-ecc3-43b2-84ce-2505b4c3baf6')\"\n",
              "              title=\"Convert this dataframe to an interactive table.\"\n",
              "              style=\"display:none;\">\n",
              "        \n",
              "  <svg xmlns=\"http://www.w3.org/2000/svg\" height=\"24px\"viewBox=\"0 0 24 24\"\n",
              "       width=\"24px\">\n",
              "    <path d=\"M0 0h24v24H0V0z\" fill=\"none\"/>\n",
              "    <path d=\"M18.56 5.44l.94 2.06.94-2.06 2.06-.94-2.06-.94-.94-2.06-.94 2.06-2.06.94zm-11 1L8.5 8.5l.94-2.06 2.06-.94-2.06-.94L8.5 2.5l-.94 2.06-2.06.94zm10 10l.94 2.06.94-2.06 2.06-.94-2.06-.94-.94-2.06-.94 2.06-2.06.94z\"/><path d=\"M17.41 7.96l-1.37-1.37c-.4-.4-.92-.59-1.43-.59-.52 0-1.04.2-1.43.59L10.3 9.45l-7.72 7.72c-.78.78-.78 2.05 0 2.83L4 21.41c.39.39.9.59 1.41.59.51 0 1.02-.2 1.41-.59l7.78-7.78 2.81-2.81c.8-.78.8-2.07 0-2.86zM5.41 20L4 18.59l7.72-7.72 1.47 1.35L5.41 20z\"/>\n",
              "  </svg>\n",
              "      </button>\n",
              "      \n",
              "  <style>\n",
              "    .colab-df-container {\n",
              "      display:flex;\n",
              "      flex-wrap:wrap;\n",
              "      gap: 12px;\n",
              "    }\n",
              "\n",
              "    .colab-df-convert {\n",
              "      background-color: #E8F0FE;\n",
              "      border: none;\n",
              "      border-radius: 50%;\n",
              "      cursor: pointer;\n",
              "      display: none;\n",
              "      fill: #1967D2;\n",
              "      height: 32px;\n",
              "      padding: 0 0 0 0;\n",
              "      width: 32px;\n",
              "    }\n",
              "\n",
              "    .colab-df-convert:hover {\n",
              "      background-color: #E2EBFA;\n",
              "      box-shadow: 0px 1px 2px rgba(60, 64, 67, 0.3), 0px 1px 3px 1px rgba(60, 64, 67, 0.15);\n",
              "      fill: #174EA6;\n",
              "    }\n",
              "\n",
              "    [theme=dark] .colab-df-convert {\n",
              "      background-color: #3B4455;\n",
              "      fill: #D2E3FC;\n",
              "    }\n",
              "\n",
              "    [theme=dark] .colab-df-convert:hover {\n",
              "      background-color: #434B5C;\n",
              "      box-shadow: 0px 1px 3px 1px rgba(0, 0, 0, 0.15);\n",
              "      filter: drop-shadow(0px 1px 2px rgba(0, 0, 0, 0.3));\n",
              "      fill: #FFFFFF;\n",
              "    }\n",
              "  </style>\n",
              "\n",
              "      <script>\n",
              "        const buttonEl =\n",
              "          document.querySelector('#df-fd06966f-ecc3-43b2-84ce-2505b4c3baf6 button.colab-df-convert');\n",
              "        buttonEl.style.display =\n",
              "          google.colab.kernel.accessAllowed ? 'block' : 'none';\n",
              "\n",
              "        async function convertToInteractive(key) {\n",
              "          const element = document.querySelector('#df-fd06966f-ecc3-43b2-84ce-2505b4c3baf6');\n",
              "          const dataTable =\n",
              "            await google.colab.kernel.invokeFunction('convertToInteractive',\n",
              "                                                     [key], {});\n",
              "          if (!dataTable) return;\n",
              "\n",
              "          const docLinkHtml = 'Like what you see? Visit the ' +\n",
              "            '<a target=\"_blank\" href=https://colab.research.google.com/notebooks/data_table.ipynb>data table notebook</a>'\n",
              "            + ' to learn more about interactive tables.';\n",
              "          element.innerHTML = '';\n",
              "          dataTable['output_type'] = 'display_data';\n",
              "          await google.colab.output.renderOutput(dataTable, element);\n",
              "          const docLink = document.createElement('div');\n",
              "          docLink.innerHTML = docLinkHtml;\n",
              "          element.appendChild(docLink);\n",
              "        }\n",
              "      </script>\n",
              "    </div>\n",
              "  </div>\n",
              "  "
            ]
          },
          "metadata": {},
          "execution_count": 27
        }
      ],
      "source": [
        "data_falcon9.loc[:,'FlightNumber'] = list(range(1, data_falcon9.shape[0]+1))\n",
        "data_falcon9"
      ]
    },
    {
      "cell_type": "markdown",
      "metadata": {
        "id": "fYgzb5sf0MQ8"
      },
      "source": [
        "## Data Wrangling\n"
      ]
    },
    {
      "cell_type": "markdown",
      "metadata": {
        "id": "a5dS80Y90MQ9"
      },
      "source": [
        "We can see below that some of the rows are missing values in our dataset.\n"
      ]
    },
    {
      "cell_type": "code",
      "execution_count": 28,
      "metadata": {
        "id": "uPrDdDaT0MQ9",
        "colab": {
          "base_uri": "https://localhost:8080/",
          "height": 0
        },
        "outputId": "976edea8-b1d4-4cab-a160-1c56e8c19016"
      },
      "outputs": [
        {
          "output_type": "execute_result",
          "data": {
            "text/plain": [
              "FlightNumber       0\n",
              "Date               0\n",
              "BoosterVersion     0\n",
              "PayloadMass        5\n",
              "Orbit              0\n",
              "LaunchSite         0\n",
              "Outcome            0\n",
              "Flights            0\n",
              "GridFins           0\n",
              "Reused             0\n",
              "Legs               0\n",
              "LandingPad        26\n",
              "Block              0\n",
              "ReusedCount        0\n",
              "Serial             0\n",
              "Longitude          0\n",
              "Latitude           0\n",
              "dtype: int64"
            ]
          },
          "metadata": {},
          "execution_count": 28
        }
      ],
      "source": [
        "data_falcon9.isnull().sum()"
      ]
    },
    {
      "cell_type": "markdown",
      "metadata": {
        "id": "ypDf-KaC0MQ9"
      },
      "source": [
        "Before we can continue we must deal with these missing values. The <code>LandingPad</code> column will retain None values to represent when landing pads were not used.\n"
      ]
    },
    {
      "cell_type": "markdown",
      "metadata": {
        "id": "Kz6jk0OR0MQ9"
      },
      "source": [
        "### Task 3: Dealing with Missing Values\n"
      ]
    },
    {
      "cell_type": "markdown",
      "metadata": {
        "id": "Xns3x7CP0MRA"
      },
      "source": [
        "Calculate below the mean for the <code>PayloadMass</code> using the <code>.mean()</code>. Then use the mean and the <code>.replace()</code> function to replace `np.nan` values in the data with the mean you calculated.\n"
      ]
    },
    {
      "cell_type": "code",
      "execution_count": 29,
      "metadata": {
        "id": "RVEuC0XB0MRB",
        "colab": {
          "base_uri": "https://localhost:8080/",
          "height": 0
        },
        "outputId": "8454fdff-8327-4803-aa25-09a9e13d67af"
      },
      "outputs": [
        {
          "output_type": "execute_result",
          "data": {
            "text/plain": [
              "PayloadMass    6123.547647\n",
              "dtype: float64"
            ]
          },
          "metadata": {},
          "execution_count": 29
        }
      ],
      "source": [
        "# Calculate the mean value of PayloadMass column\n",
        "media = data_falcon9[[\"PayloadMass\"]].mean()\n",
        "media\n",
        "# Replace the np.nan values with its mean value"
      ]
    },
    {
      "cell_type": "code",
      "source": [
        "data_falcon9\n",
        "data_falcon9.fillna(data_falcon9[[\"PayloadMass\"]].mean())\n"
      ],
      "metadata": {
        "id": "TkY17hJeCzUu",
        "colab": {
          "base_uri": "https://localhost:8080/",
          "height": 661
        },
        "outputId": "61e53dcf-b66d-4ab4-bead-ae145829a0b3"
      },
      "execution_count": 30,
      "outputs": [
        {
          "output_type": "execute_result",
          "data": {
            "text/plain": [
              "    FlightNumber        Date BoosterVersion   PayloadMass Orbit    LaunchSite  \\\n",
              "4              1  2010-06-04       Falcon 9   6123.547647   LEO  CCSFS SLC 40   \n",
              "5              2  2012-05-22       Falcon 9    525.000000   LEO  CCSFS SLC 40   \n",
              "6              3  2013-03-01       Falcon 9    677.000000   ISS  CCSFS SLC 40   \n",
              "7              4  2013-09-29       Falcon 9    500.000000    PO   VAFB SLC 4E   \n",
              "8              5  2013-12-03       Falcon 9   3170.000000   GTO  CCSFS SLC 40   \n",
              "..           ...         ...            ...           ...   ...           ...   \n",
              "89            86  2020-09-03       Falcon 9  15600.000000  VLEO    KSC LC 39A   \n",
              "90            87  2020-10-06       Falcon 9  15600.000000  VLEO    KSC LC 39A   \n",
              "91            88  2020-10-18       Falcon 9  15600.000000  VLEO    KSC LC 39A   \n",
              "92            89  2020-10-24       Falcon 9  15600.000000  VLEO  CCSFS SLC 40   \n",
              "93            90  2020-11-05       Falcon 9   3681.000000   MEO  CCSFS SLC 40   \n",
              "\n",
              "        Outcome  Flights  GridFins  Reused   Legs                LandingPad  \\\n",
              "4     None None        1     False   False  False                      None   \n",
              "5     None None        1     False   False  False                      None   \n",
              "6     None None        1     False   False  False                      None   \n",
              "7   False Ocean        1     False   False  False                      None   \n",
              "8     None None        1     False   False  False                      None   \n",
              "..          ...      ...       ...     ...    ...                       ...   \n",
              "89    True ASDS        2      True    True   True  5e9e3032383ecb6bb234e7ca   \n",
              "90    True ASDS        3      True    True   True  5e9e3032383ecb6bb234e7ca   \n",
              "91    True ASDS        6      True    True   True  5e9e3032383ecb6bb234e7ca   \n",
              "92    True ASDS        3      True    True   True  5e9e3033383ecbb9e534e7cc   \n",
              "93    True ASDS        1      True   False   True  5e9e3032383ecb6bb234e7ca   \n",
              "\n",
              "    Block  ReusedCount Serial   Longitude   Latitude  \n",
              "4     1.0            0  B0003  -80.577366  28.561857  \n",
              "5     1.0            0  B0005  -80.577366  28.561857  \n",
              "6     1.0            0  B0007  -80.577366  28.561857  \n",
              "7     1.0            0  B1003 -120.610829  34.632093  \n",
              "8     1.0            0  B1004  -80.577366  28.561857  \n",
              "..    ...          ...    ...         ...        ...  \n",
              "89    5.0           12  B1060  -80.603956  28.608058  \n",
              "90    5.0           13  B1058  -80.603956  28.608058  \n",
              "91    5.0           12  B1051  -80.603956  28.608058  \n",
              "92    5.0           12  B1060  -80.577366  28.561857  \n",
              "93    5.0            8  B1062  -80.577366  28.561857  \n",
              "\n",
              "[90 rows x 17 columns]"
            ],
            "text/html": [
              "\n",
              "  <div id=\"df-3ef3d4e4-3acd-4e1b-82ed-6966d350e026\">\n",
              "    <div class=\"colab-df-container\">\n",
              "      <div>\n",
              "<style scoped>\n",
              "    .dataframe tbody tr th:only-of-type {\n",
              "        vertical-align: middle;\n",
              "    }\n",
              "\n",
              "    .dataframe tbody tr th {\n",
              "        vertical-align: top;\n",
              "    }\n",
              "\n",
              "    .dataframe thead th {\n",
              "        text-align: right;\n",
              "    }\n",
              "</style>\n",
              "<table border=\"1\" class=\"dataframe\">\n",
              "  <thead>\n",
              "    <tr style=\"text-align: right;\">\n",
              "      <th></th>\n",
              "      <th>FlightNumber</th>\n",
              "      <th>Date</th>\n",
              "      <th>BoosterVersion</th>\n",
              "      <th>PayloadMass</th>\n",
              "      <th>Orbit</th>\n",
              "      <th>LaunchSite</th>\n",
              "      <th>Outcome</th>\n",
              "      <th>Flights</th>\n",
              "      <th>GridFins</th>\n",
              "      <th>Reused</th>\n",
              "      <th>Legs</th>\n",
              "      <th>LandingPad</th>\n",
              "      <th>Block</th>\n",
              "      <th>ReusedCount</th>\n",
              "      <th>Serial</th>\n",
              "      <th>Longitude</th>\n",
              "      <th>Latitude</th>\n",
              "    </tr>\n",
              "  </thead>\n",
              "  <tbody>\n",
              "    <tr>\n",
              "      <th>4</th>\n",
              "      <td>1</td>\n",
              "      <td>2010-06-04</td>\n",
              "      <td>Falcon 9</td>\n",
              "      <td>6123.547647</td>\n",
              "      <td>LEO</td>\n",
              "      <td>CCSFS SLC 40</td>\n",
              "      <td>None None</td>\n",
              "      <td>1</td>\n",
              "      <td>False</td>\n",
              "      <td>False</td>\n",
              "      <td>False</td>\n",
              "      <td>None</td>\n",
              "      <td>1.0</td>\n",
              "      <td>0</td>\n",
              "      <td>B0003</td>\n",
              "      <td>-80.577366</td>\n",
              "      <td>28.561857</td>\n",
              "    </tr>\n",
              "    <tr>\n",
              "      <th>5</th>\n",
              "      <td>2</td>\n",
              "      <td>2012-05-22</td>\n",
              "      <td>Falcon 9</td>\n",
              "      <td>525.000000</td>\n",
              "      <td>LEO</td>\n",
              "      <td>CCSFS SLC 40</td>\n",
              "      <td>None None</td>\n",
              "      <td>1</td>\n",
              "      <td>False</td>\n",
              "      <td>False</td>\n",
              "      <td>False</td>\n",
              "      <td>None</td>\n",
              "      <td>1.0</td>\n",
              "      <td>0</td>\n",
              "      <td>B0005</td>\n",
              "      <td>-80.577366</td>\n",
              "      <td>28.561857</td>\n",
              "    </tr>\n",
              "    <tr>\n",
              "      <th>6</th>\n",
              "      <td>3</td>\n",
              "      <td>2013-03-01</td>\n",
              "      <td>Falcon 9</td>\n",
              "      <td>677.000000</td>\n",
              "      <td>ISS</td>\n",
              "      <td>CCSFS SLC 40</td>\n",
              "      <td>None None</td>\n",
              "      <td>1</td>\n",
              "      <td>False</td>\n",
              "      <td>False</td>\n",
              "      <td>False</td>\n",
              "      <td>None</td>\n",
              "      <td>1.0</td>\n",
              "      <td>0</td>\n",
              "      <td>B0007</td>\n",
              "      <td>-80.577366</td>\n",
              "      <td>28.561857</td>\n",
              "    </tr>\n",
              "    <tr>\n",
              "      <th>7</th>\n",
              "      <td>4</td>\n",
              "      <td>2013-09-29</td>\n",
              "      <td>Falcon 9</td>\n",
              "      <td>500.000000</td>\n",
              "      <td>PO</td>\n",
              "      <td>VAFB SLC 4E</td>\n",
              "      <td>False Ocean</td>\n",
              "      <td>1</td>\n",
              "      <td>False</td>\n",
              "      <td>False</td>\n",
              "      <td>False</td>\n",
              "      <td>None</td>\n",
              "      <td>1.0</td>\n",
              "      <td>0</td>\n",
              "      <td>B1003</td>\n",
              "      <td>-120.610829</td>\n",
              "      <td>34.632093</td>\n",
              "    </tr>\n",
              "    <tr>\n",
              "      <th>8</th>\n",
              "      <td>5</td>\n",
              "      <td>2013-12-03</td>\n",
              "      <td>Falcon 9</td>\n",
              "      <td>3170.000000</td>\n",
              "      <td>GTO</td>\n",
              "      <td>CCSFS SLC 40</td>\n",
              "      <td>None None</td>\n",
              "      <td>1</td>\n",
              "      <td>False</td>\n",
              "      <td>False</td>\n",
              "      <td>False</td>\n",
              "      <td>None</td>\n",
              "      <td>1.0</td>\n",
              "      <td>0</td>\n",
              "      <td>B1004</td>\n",
              "      <td>-80.577366</td>\n",
              "      <td>28.561857</td>\n",
              "    </tr>\n",
              "    <tr>\n",
              "      <th>...</th>\n",
              "      <td>...</td>\n",
              "      <td>...</td>\n",
              "      <td>...</td>\n",
              "      <td>...</td>\n",
              "      <td>...</td>\n",
              "      <td>...</td>\n",
              "      <td>...</td>\n",
              "      <td>...</td>\n",
              "      <td>...</td>\n",
              "      <td>...</td>\n",
              "      <td>...</td>\n",
              "      <td>...</td>\n",
              "      <td>...</td>\n",
              "      <td>...</td>\n",
              "      <td>...</td>\n",
              "      <td>...</td>\n",
              "      <td>...</td>\n",
              "    </tr>\n",
              "    <tr>\n",
              "      <th>89</th>\n",
              "      <td>86</td>\n",
              "      <td>2020-09-03</td>\n",
              "      <td>Falcon 9</td>\n",
              "      <td>15600.000000</td>\n",
              "      <td>VLEO</td>\n",
              "      <td>KSC LC 39A</td>\n",
              "      <td>True ASDS</td>\n",
              "      <td>2</td>\n",
              "      <td>True</td>\n",
              "      <td>True</td>\n",
              "      <td>True</td>\n",
              "      <td>5e9e3032383ecb6bb234e7ca</td>\n",
              "      <td>5.0</td>\n",
              "      <td>12</td>\n",
              "      <td>B1060</td>\n",
              "      <td>-80.603956</td>\n",
              "      <td>28.608058</td>\n",
              "    </tr>\n",
              "    <tr>\n",
              "      <th>90</th>\n",
              "      <td>87</td>\n",
              "      <td>2020-10-06</td>\n",
              "      <td>Falcon 9</td>\n",
              "      <td>15600.000000</td>\n",
              "      <td>VLEO</td>\n",
              "      <td>KSC LC 39A</td>\n",
              "      <td>True ASDS</td>\n",
              "      <td>3</td>\n",
              "      <td>True</td>\n",
              "      <td>True</td>\n",
              "      <td>True</td>\n",
              "      <td>5e9e3032383ecb6bb234e7ca</td>\n",
              "      <td>5.0</td>\n",
              "      <td>13</td>\n",
              "      <td>B1058</td>\n",
              "      <td>-80.603956</td>\n",
              "      <td>28.608058</td>\n",
              "    </tr>\n",
              "    <tr>\n",
              "      <th>91</th>\n",
              "      <td>88</td>\n",
              "      <td>2020-10-18</td>\n",
              "      <td>Falcon 9</td>\n",
              "      <td>15600.000000</td>\n",
              "      <td>VLEO</td>\n",
              "      <td>KSC LC 39A</td>\n",
              "      <td>True ASDS</td>\n",
              "      <td>6</td>\n",
              "      <td>True</td>\n",
              "      <td>True</td>\n",
              "      <td>True</td>\n",
              "      <td>5e9e3032383ecb6bb234e7ca</td>\n",
              "      <td>5.0</td>\n",
              "      <td>12</td>\n",
              "      <td>B1051</td>\n",
              "      <td>-80.603956</td>\n",
              "      <td>28.608058</td>\n",
              "    </tr>\n",
              "    <tr>\n",
              "      <th>92</th>\n",
              "      <td>89</td>\n",
              "      <td>2020-10-24</td>\n",
              "      <td>Falcon 9</td>\n",
              "      <td>15600.000000</td>\n",
              "      <td>VLEO</td>\n",
              "      <td>CCSFS SLC 40</td>\n",
              "      <td>True ASDS</td>\n",
              "      <td>3</td>\n",
              "      <td>True</td>\n",
              "      <td>True</td>\n",
              "      <td>True</td>\n",
              "      <td>5e9e3033383ecbb9e534e7cc</td>\n",
              "      <td>5.0</td>\n",
              "      <td>12</td>\n",
              "      <td>B1060</td>\n",
              "      <td>-80.577366</td>\n",
              "      <td>28.561857</td>\n",
              "    </tr>\n",
              "    <tr>\n",
              "      <th>93</th>\n",
              "      <td>90</td>\n",
              "      <td>2020-11-05</td>\n",
              "      <td>Falcon 9</td>\n",
              "      <td>3681.000000</td>\n",
              "      <td>MEO</td>\n",
              "      <td>CCSFS SLC 40</td>\n",
              "      <td>True ASDS</td>\n",
              "      <td>1</td>\n",
              "      <td>True</td>\n",
              "      <td>False</td>\n",
              "      <td>True</td>\n",
              "      <td>5e9e3032383ecb6bb234e7ca</td>\n",
              "      <td>5.0</td>\n",
              "      <td>8</td>\n",
              "      <td>B1062</td>\n",
              "      <td>-80.577366</td>\n",
              "      <td>28.561857</td>\n",
              "    </tr>\n",
              "  </tbody>\n",
              "</table>\n",
              "<p>90 rows × 17 columns</p>\n",
              "</div>\n",
              "      <button class=\"colab-df-convert\" onclick=\"convertToInteractive('df-3ef3d4e4-3acd-4e1b-82ed-6966d350e026')\"\n",
              "              title=\"Convert this dataframe to an interactive table.\"\n",
              "              style=\"display:none;\">\n",
              "        \n",
              "  <svg xmlns=\"http://www.w3.org/2000/svg\" height=\"24px\"viewBox=\"0 0 24 24\"\n",
              "       width=\"24px\">\n",
              "    <path d=\"M0 0h24v24H0V0z\" fill=\"none\"/>\n",
              "    <path d=\"M18.56 5.44l.94 2.06.94-2.06 2.06-.94-2.06-.94-.94-2.06-.94 2.06-2.06.94zm-11 1L8.5 8.5l.94-2.06 2.06-.94-2.06-.94L8.5 2.5l-.94 2.06-2.06.94zm10 10l.94 2.06.94-2.06 2.06-.94-2.06-.94-.94-2.06-.94 2.06-2.06.94z\"/><path d=\"M17.41 7.96l-1.37-1.37c-.4-.4-.92-.59-1.43-.59-.52 0-1.04.2-1.43.59L10.3 9.45l-7.72 7.72c-.78.78-.78 2.05 0 2.83L4 21.41c.39.39.9.59 1.41.59.51 0 1.02-.2 1.41-.59l7.78-7.78 2.81-2.81c.8-.78.8-2.07 0-2.86zM5.41 20L4 18.59l7.72-7.72 1.47 1.35L5.41 20z\"/>\n",
              "  </svg>\n",
              "      </button>\n",
              "      \n",
              "  <style>\n",
              "    .colab-df-container {\n",
              "      display:flex;\n",
              "      flex-wrap:wrap;\n",
              "      gap: 12px;\n",
              "    }\n",
              "\n",
              "    .colab-df-convert {\n",
              "      background-color: #E8F0FE;\n",
              "      border: none;\n",
              "      border-radius: 50%;\n",
              "      cursor: pointer;\n",
              "      display: none;\n",
              "      fill: #1967D2;\n",
              "      height: 32px;\n",
              "      padding: 0 0 0 0;\n",
              "      width: 32px;\n",
              "    }\n",
              "\n",
              "    .colab-df-convert:hover {\n",
              "      background-color: #E2EBFA;\n",
              "      box-shadow: 0px 1px 2px rgba(60, 64, 67, 0.3), 0px 1px 3px 1px rgba(60, 64, 67, 0.15);\n",
              "      fill: #174EA6;\n",
              "    }\n",
              "\n",
              "    [theme=dark] .colab-df-convert {\n",
              "      background-color: #3B4455;\n",
              "      fill: #D2E3FC;\n",
              "    }\n",
              "\n",
              "    [theme=dark] .colab-df-convert:hover {\n",
              "      background-color: #434B5C;\n",
              "      box-shadow: 0px 1px 3px 1px rgba(0, 0, 0, 0.15);\n",
              "      filter: drop-shadow(0px 1px 2px rgba(0, 0, 0, 0.3));\n",
              "      fill: #FFFFFF;\n",
              "    }\n",
              "  </style>\n",
              "\n",
              "      <script>\n",
              "        const buttonEl =\n",
              "          document.querySelector('#df-3ef3d4e4-3acd-4e1b-82ed-6966d350e026 button.colab-df-convert');\n",
              "        buttonEl.style.display =\n",
              "          google.colab.kernel.accessAllowed ? 'block' : 'none';\n",
              "\n",
              "        async function convertToInteractive(key) {\n",
              "          const element = document.querySelector('#df-3ef3d4e4-3acd-4e1b-82ed-6966d350e026');\n",
              "          const dataTable =\n",
              "            await google.colab.kernel.invokeFunction('convertToInteractive',\n",
              "                                                     [key], {});\n",
              "          if (!dataTable) return;\n",
              "\n",
              "          const docLinkHtml = 'Like what you see? Visit the ' +\n",
              "            '<a target=\"_blank\" href=https://colab.research.google.com/notebooks/data_table.ipynb>data table notebook</a>'\n",
              "            + ' to learn more about interactive tables.';\n",
              "          element.innerHTML = '';\n",
              "          dataTable['output_type'] = 'display_data';\n",
              "          await google.colab.output.renderOutput(dataTable, element);\n",
              "          const docLink = document.createElement('div');\n",
              "          docLink.innerHTML = docLinkHtml;\n",
              "          element.appendChild(docLink);\n",
              "        }\n",
              "      </script>\n",
              "    </div>\n",
              "  </div>\n",
              "  "
            ]
          },
          "metadata": {},
          "execution_count": 30
        }
      ]
    },
    {
      "cell_type": "code",
      "source": [
        "data_falcon9.PayloadMass = data_falcon9.PayloadMass.fillna(6123.547647)"
      ],
      "metadata": {
        "id": "T2hW8m5ADIY8",
        "colab": {
          "base_uri": "https://localhost:8080/",
          "height": 0
        },
        "outputId": "566dc31a-d8c3-4872-991c-51832b2244a4"
      },
      "execution_count": 31,
      "outputs": [
        {
          "output_type": "stream",
          "name": "stderr",
          "text": [
            "/usr/local/lib/python3.8/dist-packages/pandas/core/generic.py:5516: SettingWithCopyWarning: \n",
            "A value is trying to be set on a copy of a slice from a DataFrame.\n",
            "Try using .loc[row_indexer,col_indexer] = value instead\n",
            "\n",
            "See the caveats in the documentation: https://pandas.pydata.org/pandas-docs/stable/user_guide/indexing.html#returning-a-view-versus-a-copy\n",
            "  self[name] = value\n"
          ]
        }
      ]
    },
    {
      "cell_type": "code",
      "source": [
        "data_falcon9[\"LaunchSite\"][0:89]"
      ],
      "metadata": {
        "id": "Ym4q7VqSDhwY",
        "colab": {
          "base_uri": "https://localhost:8080/",
          "height": 0
        },
        "outputId": "4a318f5c-0b3e-4c8a-bb48-95e1408617d1"
      },
      "execution_count": 32,
      "outputs": [
        {
          "output_type": "execute_result",
          "data": {
            "text/plain": [
              "4     CCSFS SLC 40\n",
              "5     CCSFS SLC 40\n",
              "6     CCSFS SLC 40\n",
              "7      VAFB SLC 4E\n",
              "8     CCSFS SLC 40\n",
              "          ...     \n",
              "88    CCSFS SLC 40\n",
              "89      KSC LC 39A\n",
              "90      KSC LC 39A\n",
              "91      KSC LC 39A\n",
              "92    CCSFS SLC 40\n",
              "Name: LaunchSite, Length: 89, dtype: object"
            ]
          },
          "metadata": {},
          "execution_count": 32
        }
      ]
    },
    {
      "cell_type": "code",
      "source": [
        "data_falcon9.isnull().sum()"
      ],
      "metadata": {
        "id": "5SwCJEgYEWk8",
        "colab": {
          "base_uri": "https://localhost:8080/",
          "height": 0
        },
        "outputId": "b0539b58-bb57-459d-97ca-d1003c9316c8"
      },
      "execution_count": 33,
      "outputs": [
        {
          "output_type": "execute_result",
          "data": {
            "text/plain": [
              "FlightNumber       0\n",
              "Date               0\n",
              "BoosterVersion     0\n",
              "PayloadMass        0\n",
              "Orbit              0\n",
              "LaunchSite         0\n",
              "Outcome            0\n",
              "Flights            0\n",
              "GridFins           0\n",
              "Reused             0\n",
              "Legs               0\n",
              "LandingPad        26\n",
              "Block              0\n",
              "ReusedCount        0\n",
              "Serial             0\n",
              "Longitude          0\n",
              "Latitude           0\n",
              "dtype: int64"
            ]
          },
          "metadata": {},
          "execution_count": 33
        }
      ]
    },
    {
      "cell_type": "markdown",
      "metadata": {
        "id": "nHQ4HLow0MRB"
      },
      "source": [
        "You should see the number of missing values of the <code>PayLoadMass</code> change to zero.\n"
      ]
    },
    {
      "cell_type": "markdown",
      "metadata": {
        "id": "2-kkryjR0MRC"
      },
      "source": [
        "Now we should have no missing values in our dataset except for in <code>LandingPad</code>.\n"
      ]
    },
    {
      "cell_type": "markdown",
      "metadata": {
        "id": "zm2jEC-S0MRC"
      },
      "source": [
        "<code>data_falcon9.to_csv('dataset_part_1.csv', index=False)</code>\n"
      ]
    },
    {
      "cell_type": "code",
      "source": [
        "data_falcon9.to_csv('dataset_part_1.csv', index=False)\n"
      ],
      "metadata": {
        "id": "pr8a4Ye5zack"
      },
      "execution_count": 34,
      "outputs": []
    }
  ],
  "metadata": {
    "kernelspec": {
      "display_name": "Python",
      "language": "python",
      "name": "conda-env-python-py"
    },
    "language_info": {
      "name": ""
    },
    "colab": {
      "provenance": []
    }
  },
  "nbformat": 4,
  "nbformat_minor": 0
}